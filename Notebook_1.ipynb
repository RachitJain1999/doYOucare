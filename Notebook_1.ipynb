{
 "cells": [
  {
   "cell_type": "code",
   "execution_count": 8,
   "metadata": {},
   "outputs": [
    {
     "name": "stdout",
     "output_type": "stream",
     "text": [
      "Hey [1, 2, 3, 4] , sum 10\n"
     ]
    }
   ],
   "source": [
    "n = list(map(int,input().split()))\n",
    "# print(type(n))\n",
    "print(f'Hey {n} , sum {sum(n)}')\n"
   ]
  },
  {
   "cell_type": "code",
   "execution_count": 10,
   "metadata": {},
   "outputs": [
    {
     "name": "stdout",
     "output_type": "stream",
     "text": [
      "3.12.5 (tags/v3.12.5:ff3bc82, Aug  6 2024, 20:45:27) [MSC v.1940 64 bit (AMD64)]\n"
     ]
    }
   ],
   "source": [
    "import sys \n",
    "print(sys.version)"
   ]
  },
  {
   "cell_type": "code",
   "execution_count": 11,
   "metadata": {},
   "outputs": [
    {
     "name": "stdout",
     "output_type": "stream",
     "text": [
      "0 9 8\n"
     ]
    }
   ],
   "source": [
    "#valid\n",
    "Xmen = 0\n",
    "xmen = 9\n",
    "_xmen = 8\n",
    "print(Xmen,xmen,_xmen)"
   ]
  },
  {
   "cell_type": "code",
   "execution_count": 16,
   "metadata": {},
   "outputs": [
    {
     "name": "stdout",
     "output_type": "stream",
     "text": [
      "8\n"
     ]
    }
   ],
   "source": [
    "#invalid\n",
    "# X-men = 8\n",
    "sum = 8  # should avoid this\n",
    "print(sum)"
   ]
  },
  {
   "cell_type": "code",
   "execution_count": 25,
   "metadata": {},
   "outputs": [
    {
     "name": "stdout",
     "output_type": "stream",
     "text": [
      "hello@POOL\n",
      "1 2 3 4\n"
     ]
    }
   ],
   "source": [
    "l = [1,2,3,4]\n",
    "print(\"hello\",\"POOL\",sep = '@')\n",
    "\n",
    "print(*l)"
   ]
  },
  {
   "cell_type": "markdown",
   "metadata": {},
   "source": [
    "OPERATOR"
   ]
  },
  {
   "cell_type": "code",
   "execution_count": 30,
   "metadata": {},
   "outputs": [
    {
     "name": "stdout",
     "output_type": "stream",
     "text": [
      "2 4 -3\n"
     ]
    }
   ],
   "source": [
    "x = 2%3\n",
    "y= x**x\n",
    "print(x,y,-12//5)"
   ]
  },
  {
   "cell_type": "code",
   "execution_count": 42,
   "metadata": {},
   "outputs": [
    {
     "name": "stdout",
     "output_type": "stream",
     "text": [
      "[5, 8, 46, 39, 27, 46, 7, 31, 44, 5, 31, 23, 36]\n",
      "232 348\n",
      "[5, 5, 7, 8, 23, 27, 31, 31, 36, 39, 44, 46, 46]\n",
      "[5, 10, 17, 25, 48, 75, 106, 137, 173, 212, 256, 302, 348]\n"
     ]
    }
   ],
   "source": [
    "l = list(map(int,input().split()))\n",
    "print(l)\n",
    "s = 0\n",
    "for i in l:\n",
    "    s+=i\n",
    "print((s//3)*2,s)\n",
    "l.sort()\n",
    "print(l)\n",
    "ps = [0]\n",
    "for i in l:\n",
    "    ps.append(ps[-1]+i)\n",
    "ps = ps[1:]\n",
    "print(ps)"
   ]
  },
  {
   "cell_type": "markdown",
   "metadata": {},
   "source": [
    "WEEK 2"
   ]
  },
  {
   "cell_type": "code",
   "execution_count": 2,
   "metadata": {},
   "outputs": [
    {
     "name": "stdout",
     "output_type": "stream",
     "text": [
      "2 6\n"
     ]
    }
   ],
   "source": [
    "#swap without third variable \n",
    "x = 6\n",
    "y = 2\n",
    "x = x+y\n",
    "y = x-y\n",
    "x = x-y\n",
    "print(x,y)"
   ]
  },
  {
   "cell_type": "code",
   "execution_count": 3,
   "metadata": {},
   "outputs": [
    {
     "name": "stdout",
     "output_type": "stream",
     "text": [
      "Outside function\n",
      "inside function\n"
     ]
    }
   ],
   "source": [
    "def fun():\n",
    "    print(\"inside function\")\n",
    "    \n",
    "print(\"Outside function\")\n",
    "\n",
    "fun()"
   ]
  },
  {
   "cell_type": "code",
   "execution_count": 4,
   "metadata": {},
   "outputs": [
    {
     "name": "stdout",
     "output_type": "stream",
     "text": [
      "2\n"
     ]
    }
   ],
   "source": [
    "#subtract two values\n",
    "\n",
    "def sub(a,b):\n",
    "    return abs(a-b)\n",
    "x = 7\n",
    "y = 9\n",
    "result = sub(x,y)\n",
    "print(result)"
   ]
  },
  {
   "cell_type": "code",
   "execution_count": 5,
   "metadata": {},
   "outputs": [
    {
     "name": "stdout",
     "output_type": "stream",
     "text": [
      "False\n"
     ]
    }
   ],
   "source": [
    "\n",
    "if(0.1 + 0.2 == 0.3):\n",
    "    print('True')\n",
    "else:\n",
    "    print('False')"
   ]
  },
  {
   "cell_type": "code",
   "execution_count": 7,
   "metadata": {},
   "outputs": [
    {
     "name": "stdout",
     "output_type": "stream",
     "text": [
      "[[0, 0, 0], [0, 0, 0], [0, 0, 0]]\n"
     ]
    }
   ],
   "source": [
    "import pprint\n",
    "l1 = [[0]*3] *3\n",
    "pprint.pprint(l1)"
   ]
  },
  {
   "cell_type": "code",
   "execution_count": 15,
   "metadata": {},
   "outputs": [
    {
     "name": "stdout",
     "output_type": "stream",
     "text": [
      "[1, 2, 3, [1, 2, 3]] [1, 2, 3, [1, 2, 99]]\n"
     ]
    }
   ],
   "source": [
    "import copy\n",
    "l1 = [1,2,3,[1,2,3]]\n",
    "l2 = copy.deepcopy(l1)\n",
    "l2[3][2] = 99\n",
    "print(l1,l2)"
   ]
  },
  {
   "cell_type": "code",
   "execution_count": 20,
   "metadata": {},
   "outputs": [
    {
     "ename": "Exception",
     "evalue": "Hello I'm error",
     "output_type": "error",
     "traceback": [
      "\u001b[1;31m---------------------------------------------------------------------------\u001b[0m",
      "\u001b[1;31mException\u001b[0m                                 Traceback (most recent call last)",
      "Cell \u001b[1;32mIn[20], line 2\u001b[0m\n\u001b[0;32m      1\u001b[0m \u001b[38;5;28;01mif\u001b[39;00m(\u001b[38;5;28;01mTrue\u001b[39;00m):\n\u001b[1;32m----> 2\u001b[0m     \u001b[38;5;28;01mraise\u001b[39;00m \u001b[38;5;167;01mException\u001b[39;00m(\u001b[38;5;124m\"\u001b[39m\u001b[38;5;124mHello I\u001b[39m\u001b[38;5;124m'\u001b[39m\u001b[38;5;124mm error\u001b[39m\u001b[38;5;124m\"\u001b[39m)\n",
      "\u001b[1;31mException\u001b[0m: Hello I'm error"
     ]
    }
   ],
   "source": [
    "if(True):\n",
    "    raise Exception(\"Hello I'm error\")"
   ]
  },
  {
   "cell_type": "code",
   "execution_count": 23,
   "metadata": {},
   "outputs": [
    {
     "name": "stdout",
     "output_type": "stream",
     "text": [
      "An error occurred: x is too large!\n"
     ]
    }
   ],
   "source": [
    "try:\n",
    "    x = 10\n",
    "    if x > 5:\n",
    "        raise Exception(\"x is too large!\")\n",
    "except Exception as e:\n",
    "    print(f\"An error occurred: {e}\")\n"
   ]
  },
  {
   "cell_type": "code",
   "execution_count": 26,
   "metadata": {},
   "outputs": [
    {
     "ename": "AssertionError",
     "evalue": "Hello , m assertion error",
     "output_type": "error",
     "traceback": [
      "\u001b[1;31m---------------------------------------------------------------------------\u001b[0m",
      "\u001b[1;31mAssertionError\u001b[0m                            Traceback (most recent call last)",
      "Cell \u001b[1;32mIn[26], line 2\u001b[0m\n\u001b[0;32m      1\u001b[0m a \u001b[38;5;241m=\u001b[39m \u001b[38;5;241m9\u001b[39m\n\u001b[1;32m----> 2\u001b[0m \u001b[38;5;28;01massert\u001b[39;00m a\u001b[38;5;241m!=\u001b[39m\u001b[38;5;241m9\u001b[39m , \u001b[38;5;124m'\u001b[39m\u001b[38;5;124mHello , m assertion error\u001b[39m\u001b[38;5;124m'\u001b[39m\n\u001b[0;32m      3\u001b[0m \u001b[38;5;28mprint\u001b[39m(a\u001b[38;5;241m+\u001b[39m\u001b[38;5;241m9\u001b[39m)\n",
      "\u001b[1;31mAssertionError\u001b[0m: Hello , m assertion error"
     ]
    }
   ],
   "source": [
    "a = 9\n",
    "assert a!=9 , 'Hello , m assertion error'\n",
    "print(a+9)"
   ]
  },
  {
   "cell_type": "code",
   "execution_count": 32,
   "metadata": {},
   "outputs": [
    {
     "name": "stdout",
     "output_type": "stream",
     "text": [
      "Code delhlo AssertionError\n"
     ]
    }
   ],
   "source": [
    "try:\n",
    "    x=0\n",
    "    # if(x<9):\n",
    "        # raise \"x is negative\"\n",
    "    assert x==9 , 'AssertionError'\n",
    "except Exception as e:\n",
    "    print('Code delhlo',e)\n",
    "\n",
    "    "
   ]
  },
  {
   "cell_type": "code",
   "execution_count": null,
   "metadata": {},
   "outputs": [],
   "source": []
  }
 ],
 "metadata": {
  "kernelspec": {
   "display_name": "Python 3",
   "language": "python",
   "name": "python3"
  },
  "language_info": {
   "codemirror_mode": {
    "name": "ipython",
    "version": 3
   },
   "file_extension": ".py",
   "mimetype": "text/x-python",
   "name": "python",
   "nbconvert_exporter": "python",
   "pygments_lexer": "ipython3",
   "version": "3.12.5"
  }
 },
 "nbformat": 4,
 "nbformat_minor": 2
}
